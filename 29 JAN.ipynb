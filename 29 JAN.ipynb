{
 "cells": [
  {
   "cell_type": "markdown",
   "id": "00652449-7bc6-4763-87f5-0aacc01932a2",
   "metadata": {},
   "source": [
    "ANSWER NO. 1 Guido van Rossum.\n",
    "\n",
    "ANSWER NO. 2 Object-oriented programming, structured, and functional programming.\n",
    "\n",
    "ANSWER NO. 3 Yes, it is.\n",
    "\n",
    "ANSWER NO. 4 .py \n",
    "\n",
    "ANSWER NO. 5 Interpreted.\n",
    "\n",
    "ANSWER NO. 6 A module, a function body, and a class definition.\n",
    "\n",
    "ANSWER NO. 7 Hash character(#).\n",
    "ANSWER NO. 8 sys.version\n",
    "ANSWER NO. 9 lambda.\n",
    "ANSWER NO. 10 Pip Install Packages.\n",
    "ANSWER NO. 11 print(), type(), len(), sum(), sort().\n",
    "ANSWER NO. 12 79 Characters.\n",
    "ANSWER NO. 13 The benifits of using python are:\n",
    "           a. Python is extensible.\n",
    "           b. Python Libraries.\n",
    "           c. Python Community.\n",
    "           d. Python is easy to learn.\n",
    "           \n",
    "ANSWER NO. 14 Memory in Python is managed by Python private heap space. All Python objects and data structures are located in a private heap. This private heap is taken care of by Python Interpreter itself, and a programmer doesn't have access to this private heap.\n",
    "\n",
    "ANSWER NO. 15 Right-clicking This PC and going to Properties.\n",
    "\n",
    "Clicking on the Advanced system settings in the menu on the left.\n",
    "\n",
    "Clicking on the Environment Variables button on the bottom right.\n",
    "\n",
    "In the System variables section, selecting the Path variable and clicking on Edit. The next screen will show all the directories that are currently a part of the PATH variable.\n",
    "\n",
    "Clicking on New and entering Python’s install directory.\n",
    "\n",
    "\n",
    "\n",
    "ANSWER NO. 16 Yes.\n",
    " \n",
    "\n",
    "\n",
    "\n",
    "\n"
   ]
  }
 ],
 "metadata": {
  "kernelspec": {
   "display_name": "Python 3 (ipykernel)",
   "language": "python",
   "name": "python3"
  },
  "language_info": {
   "codemirror_mode": {
    "name": "ipython",
    "version": 3
   },
   "file_extension": ".py",
   "mimetype": "text/x-python",
   "name": "python",
   "nbconvert_exporter": "python",
   "pygments_lexer": "ipython3",
   "version": "3.10.8"
  }
 },
 "nbformat": 4,
 "nbformat_minor": 5
}
